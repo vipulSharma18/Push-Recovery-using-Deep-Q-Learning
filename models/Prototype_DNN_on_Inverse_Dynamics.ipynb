{
  "nbformat": 4,
  "nbformat_minor": 0,
  "metadata": {
    "colab": {
      "name": "DNN on Inverse Dynamics.ipynb",
      "provenance": [],
      "collapsed_sections": [],
      "mount_file_id": "11cGx58Sx0wgCnfbI8OtXB9MjbtSKe_4G",
      "authorship_tag": "ABX9TyOP7ckGGcWs2nUjkuPV3Cgd",
      "include_colab_link": true
    },
    "kernelspec": {
      "name": "python3",
      "display_name": "Python 3"
    },
    "accelerator": "GPU"
  },
  "cells": [
    {
      "cell_type": "markdown",
      "metadata": {
        "id": "view-in-github",
        "colab_type": "text"
      },
      "source": [
        "<a href=\"https://colab.research.google.com/github/vipulSharma18/Push-Recovery-using-Deep-Q-Learning/blob/main/models/Prototype_DNN_on_Inverse_Dynamics.ipynb\" target=\"_parent\"><img src=\"https://colab.research.google.com/assets/colab-badge.svg\" alt=\"Open In Colab\"/></a>"
      ]
    },
    {
      "cell_type": "code",
      "metadata": {
        "id": "U7RUZwrBE61v"
      },
      "source": [
        "from sklearn.model_selection import train_test_split\r\n",
        "from tensorflow.keras import Sequential\r\n",
        "from tensorflow.keras.layers import Dense\r\n",
        "import pandas as pd\r\n",
        "import matplotlib.pyplot as plt\r\n",
        "import numpy as np"
      ],
      "execution_count": 1,
      "outputs": []
    },
    {
      "cell_type": "code",
      "metadata": {
        "id": "wUXIUoaLGEiq"
      },
      "source": [
        "import tensorflow as tf"
      ],
      "execution_count": 23,
      "outputs": []
    },
    {
      "cell_type": "code",
      "metadata": {
        "id": "uzgtp8ReFdhi"
      },
      "source": [
        "dataset = pd.read_hdf(\"/content/drive/MyDrive/Inverse Dynamics/InverseDynamicDataset.h5\", key = 'dataset')"
      ],
      "execution_count": 3,
      "outputs": []
    },
    {
      "cell_type": "code",
      "metadata": {
        "colab": {
          "base_uri": "https://localhost:8080/",
          "height": 195
        },
        "id": "H4x10RqMGJlL",
        "outputId": "0181f64c-aa11-4958-abaa-e650f8b4177d"
      },
      "source": [
        "dataset.head()"
      ],
      "execution_count": 4,
      "outputs": [
        {
          "output_type": "execute_result",
          "data": {
            "text/html": [
              "<div>\n",
              "<style scoped>\n",
              "    .dataframe tbody tr th:only-of-type {\n",
              "        vertical-align: middle;\n",
              "    }\n",
              "\n",
              "    .dataframe tbody tr th {\n",
              "        vertical-align: top;\n",
              "    }\n",
              "\n",
              "    .dataframe thead th {\n",
              "        text-align: right;\n",
              "    }\n",
              "</style>\n",
              "<table border=\"1\" class=\"dataframe\">\n",
              "  <thead>\n",
              "    <tr style=\"text-align: right;\">\n",
              "      <th></th>\n",
              "      <th>Mass1</th>\n",
              "      <th>Length1</th>\n",
              "      <th>Mass2</th>\n",
              "      <th>Length2</th>\n",
              "      <th>Theta1</th>\n",
              "      <th>Theta2</th>\n",
              "      <th>Velocity1</th>\n",
              "      <th>Velocity2</th>\n",
              "      <th>Acceleration1</th>\n",
              "      <th>Acceleration2</th>\n",
              "      <th>T1</th>\n",
              "      <th>T2</th>\n",
              "    </tr>\n",
              "  </thead>\n",
              "  <tbody>\n",
              "    <tr>\n",
              "      <th>0</th>\n",
              "      <td>3.2</td>\n",
              "      <td>0.44</td>\n",
              "      <td>10.13</td>\n",
              "      <td>0.42</td>\n",
              "      <td>59.03</td>\n",
              "      <td>84.71</td>\n",
              "      <td>4.53</td>\n",
              "      <td>-2.24</td>\n",
              "      <td>2.36</td>\n",
              "      <td>-1.01</td>\n",
              "      <td>33.00</td>\n",
              "      <td>7.45</td>\n",
              "    </tr>\n",
              "    <tr>\n",
              "      <th>1</th>\n",
              "      <td>3.2</td>\n",
              "      <td>0.44</td>\n",
              "      <td>10.13</td>\n",
              "      <td>0.42</td>\n",
              "      <td>59.03</td>\n",
              "      <td>84.71</td>\n",
              "      <td>4.53</td>\n",
              "      <td>-2.24</td>\n",
              "      <td>2.36</td>\n",
              "      <td>1.70</td>\n",
              "      <td>38.77</td>\n",
              "      <td>12.29</td>\n",
              "    </tr>\n",
              "    <tr>\n",
              "      <th>2</th>\n",
              "      <td>3.2</td>\n",
              "      <td>0.44</td>\n",
              "      <td>10.13</td>\n",
              "      <td>0.42</td>\n",
              "      <td>59.03</td>\n",
              "      <td>84.71</td>\n",
              "      <td>4.53</td>\n",
              "      <td>-2.24</td>\n",
              "      <td>2.36</td>\n",
              "      <td>2.05</td>\n",
              "      <td>39.52</td>\n",
              "      <td>12.92</td>\n",
              "    </tr>\n",
              "    <tr>\n",
              "      <th>3</th>\n",
              "      <td>3.2</td>\n",
              "      <td>0.44</td>\n",
              "      <td>10.13</td>\n",
              "      <td>0.42</td>\n",
              "      <td>59.03</td>\n",
              "      <td>84.71</td>\n",
              "      <td>4.53</td>\n",
              "      <td>-2.24</td>\n",
              "      <td>2.36</td>\n",
              "      <td>1.10</td>\n",
              "      <td>37.49</td>\n",
              "      <td>11.22</td>\n",
              "    </tr>\n",
              "    <tr>\n",
              "      <th>4</th>\n",
              "      <td>3.2</td>\n",
              "      <td>0.44</td>\n",
              "      <td>10.13</td>\n",
              "      <td>0.42</td>\n",
              "      <td>59.03</td>\n",
              "      <td>84.71</td>\n",
              "      <td>4.53</td>\n",
              "      <td>-2.24</td>\n",
              "      <td>2.36</td>\n",
              "      <td>0.40</td>\n",
              "      <td>36.00</td>\n",
              "      <td>9.97</td>\n",
              "    </tr>\n",
              "  </tbody>\n",
              "</table>\n",
              "</div>"
            ],
            "text/plain": [
              "   Mass1  Length1  Mass2  Length2  ...  Acceleration1  Acceleration2     T1     T2\n",
              "0    3.2     0.44  10.13     0.42  ...           2.36          -1.01  33.00   7.45\n",
              "1    3.2     0.44  10.13     0.42  ...           2.36           1.70  38.77  12.29\n",
              "2    3.2     0.44  10.13     0.42  ...           2.36           2.05  39.52  12.92\n",
              "3    3.2     0.44  10.13     0.42  ...           2.36           1.10  37.49  11.22\n",
              "4    3.2     0.44  10.13     0.42  ...           2.36           0.40  36.00   9.97\n",
              "\n",
              "[5 rows x 12 columns]"
            ]
          },
          "metadata": {
            "tags": []
          },
          "execution_count": 4
        }
      ]
    },
    {
      "cell_type": "code",
      "metadata": {
        "id": "3q3tWRA5GTp5"
      },
      "source": [
        "X_cols = list(dataset.columns)[:-2]"
      ],
      "execution_count": 5,
      "outputs": []
    },
    {
      "cell_type": "code",
      "metadata": {
        "id": "9xzWoQcjGgWj"
      },
      "source": [
        "y_1_col = ['T1']\r\n",
        "y_2_col = ['T2']"
      ],
      "execution_count": 6,
      "outputs": []
    },
    {
      "cell_type": "code",
      "metadata": {
        "id": "-ql80IVbG3eg"
      },
      "source": [
        "X = dataset[X_cols]\r\n",
        "y_1 = dataset[y_1_col]\r\n",
        "y_2 = dataset[y_2_col]"
      ],
      "execution_count": 7,
      "outputs": []
    },
    {
      "cell_type": "code",
      "metadata": {
        "colab": {
          "base_uri": "https://localhost:8080/"
        },
        "id": "VUqE9fMtHApu",
        "outputId": "93a9d2fb-d7d0-43c1-f48a-bfb5921a2f4e"
      },
      "source": [
        "y_1.shape, y_2.shape, X.shape"
      ],
      "execution_count": 8,
      "outputs": [
        {
          "output_type": "execute_result",
          "data": {
            "text/plain": [
              "((4000000, 1), (4000000, 1), (4000000, 10))"
            ]
          },
          "metadata": {
            "tags": []
          },
          "execution_count": 8
        }
      ]
    },
    {
      "cell_type": "markdown",
      "metadata": {
        "id": "FRTK_pz9HHiz"
      },
      "source": [
        "# Model For T1 calculation"
      ]
    },
    {
      "cell_type": "code",
      "metadata": {
        "id": "dy4ATRzZHC9A"
      },
      "source": [
        "X_train, X_test, y_train, y_test = train_test_split(X, y_1, test_size = 0.2, random_state = 42)"
      ],
      "execution_count": 9,
      "outputs": []
    },
    {
      "cell_type": "code",
      "metadata": {
        "id": "xq5lpIi7IKba"
      },
      "source": [
        "model = Sequential()\r\n",
        "model.add(Dense(16,activation='relu', input_shape = (10,)))\r\n",
        "model.add(Dense(2, activation='relu'))\r\n",
        "model.add(Dense(1))\r\n",
        "model.compile(optimizer='adam', loss = 'mean_squared_error', metrics = 'mean_squared_error')"
      ],
      "execution_count": 10,
      "outputs": []
    },
    {
      "cell_type": "code",
      "metadata": {
        "colab": {
          "base_uri": "https://localhost:8080/"
        },
        "id": "BTtmQbWDNXuj",
        "outputId": "fdb7cc3c-7cb1-446d-cb90-70d5e553bf22"
      },
      "source": [
        "model.summary()"
      ],
      "execution_count": 11,
      "outputs": [
        {
          "output_type": "stream",
          "text": [
            "Model: \"sequential\"\n",
            "_________________________________________________________________\n",
            "Layer (type)                 Output Shape              Param #   \n",
            "=================================================================\n",
            "dense (Dense)                (None, 16)                176       \n",
            "_________________________________________________________________\n",
            "dense_1 (Dense)              (None, 2)                 34        \n",
            "_________________________________________________________________\n",
            "dense_2 (Dense)              (None, 1)                 3         \n",
            "=================================================================\n",
            "Total params: 213\n",
            "Trainable params: 213\n",
            "Non-trainable params: 0\n",
            "_________________________________________________________________\n"
          ],
          "name": "stdout"
        }
      ]
    },
    {
      "cell_type": "code",
      "metadata": {
        "colab": {
          "base_uri": "https://localhost:8080/"
        },
        "id": "ovK2hmxiNdpf",
        "outputId": "3d777f74-4394-4f64-9d75-a5207676f16f"
      },
      "source": [
        "history = model.fit(X_train, y_train,validation_split=0.2, epochs=60, batch_size = 200)"
      ],
      "execution_count": 12,
      "outputs": [
        {
          "output_type": "stream",
          "text": [
            "Epoch 1/60\n",
            "12800/12800 [==============================] - 25s 2ms/step - loss: 505.7745 - mean_squared_error: 505.7745 - val_loss: 60.5108 - val_mean_squared_error: 60.5108\n",
            "Epoch 2/60\n",
            "12800/12800 [==============================] - 23s 2ms/step - loss: 50.9677 - mean_squared_error: 50.9677 - val_loss: 33.7894 - val_mean_squared_error: 33.7894\n",
            "Epoch 3/60\n",
            "12800/12800 [==============================] - 22s 2ms/step - loss: 31.1092 - mean_squared_error: 31.1092 - val_loss: 23.9173 - val_mean_squared_error: 23.9173\n",
            "Epoch 4/60\n",
            "12800/12800 [==============================] - 22s 2ms/step - loss: 22.6764 - mean_squared_error: 22.6764 - val_loss: 17.5801 - val_mean_squared_error: 17.5801\n",
            "Epoch 5/60\n",
            "12800/12800 [==============================] - 22s 2ms/step - loss: 16.8243 - mean_squared_error: 16.8243 - val_loss: 13.6347 - val_mean_squared_error: 13.6347\n",
            "Epoch 6/60\n",
            "12800/12800 [==============================] - 22s 2ms/step - loss: 13.4508 - mean_squared_error: 13.4508 - val_loss: 11.6466 - val_mean_squared_error: 11.6466\n",
            "Epoch 7/60\n",
            "12800/12800 [==============================] - 22s 2ms/step - loss: 11.8222 - mean_squared_error: 11.8222 - val_loss: 10.8560 - val_mean_squared_error: 10.8560\n",
            "Epoch 8/60\n",
            "12800/12800 [==============================] - 22s 2ms/step - loss: 11.1770 - mean_squared_error: 11.1770 - val_loss: 10.4345 - val_mean_squared_error: 10.4345\n",
            "Epoch 9/60\n",
            "12800/12800 [==============================] - 22s 2ms/step - loss: 10.8398 - mean_squared_error: 10.8398 - val_loss: 11.2962 - val_mean_squared_error: 11.2962\n",
            "Epoch 10/60\n",
            "12800/12800 [==============================] - 22s 2ms/step - loss: 10.5558 - mean_squared_error: 10.5558 - val_loss: 10.4524 - val_mean_squared_error: 10.4524\n",
            "Epoch 11/60\n",
            "12800/12800 [==============================] - 22s 2ms/step - loss: 10.3649 - mean_squared_error: 10.3649 - val_loss: 11.5247 - val_mean_squared_error: 11.5247\n",
            "Epoch 12/60\n",
            "12800/12800 [==============================] - 22s 2ms/step - loss: 10.1449 - mean_squared_error: 10.1449 - val_loss: 9.5816 - val_mean_squared_error: 9.5816\n",
            "Epoch 13/60\n",
            "12800/12800 [==============================] - 22s 2ms/step - loss: 9.8664 - mean_squared_error: 9.8664 - val_loss: 10.1676 - val_mean_squared_error: 10.1676\n",
            "Epoch 14/60\n",
            "12800/12800 [==============================] - 22s 2ms/step - loss: 9.5457 - mean_squared_error: 9.5457 - val_loss: 11.0254 - val_mean_squared_error: 11.0254\n",
            "Epoch 15/60\n",
            "12800/12800 [==============================] - 23s 2ms/step - loss: 9.1870 - mean_squared_error: 9.1870 - val_loss: 9.0784 - val_mean_squared_error: 9.0784\n",
            "Epoch 16/60\n",
            "12800/12800 [==============================] - 23s 2ms/step - loss: 8.8935 - mean_squared_error: 8.8935 - val_loss: 9.2128 - val_mean_squared_error: 9.2128\n",
            "Epoch 17/60\n",
            "12800/12800 [==============================] - 22s 2ms/step - loss: 8.7093 - mean_squared_error: 8.7093 - val_loss: 8.3666 - val_mean_squared_error: 8.3666\n",
            "Epoch 18/60\n",
            "12800/12800 [==============================] - 22s 2ms/step - loss: 8.5486 - mean_squared_error: 8.5486 - val_loss: 8.1972 - val_mean_squared_error: 8.1972\n",
            "Epoch 19/60\n",
            "12800/12800 [==============================] - 22s 2ms/step - loss: 8.4560 - mean_squared_error: 8.4560 - val_loss: 8.0050 - val_mean_squared_error: 8.0050\n",
            "Epoch 20/60\n",
            "12800/12800 [==============================] - 22s 2ms/step - loss: 8.3201 - mean_squared_error: 8.3201 - val_loss: 8.9173 - val_mean_squared_error: 8.9173\n",
            "Epoch 21/60\n",
            "12800/12800 [==============================] - 22s 2ms/step - loss: 8.2198 - mean_squared_error: 8.2198 - val_loss: 7.9132 - val_mean_squared_error: 7.9132\n",
            "Epoch 22/60\n",
            "12800/12800 [==============================] - 22s 2ms/step - loss: 8.1264 - mean_squared_error: 8.1264 - val_loss: 7.6604 - val_mean_squared_error: 7.6604\n",
            "Epoch 23/60\n",
            "12800/12800 [==============================] - 22s 2ms/step - loss: 8.0646 - mean_squared_error: 8.0646 - val_loss: 7.5875 - val_mean_squared_error: 7.5875\n",
            "Epoch 24/60\n",
            "12800/12800 [==============================] - 22s 2ms/step - loss: 7.9940 - mean_squared_error: 7.9940 - val_loss: 7.5758 - val_mean_squared_error: 7.5758\n",
            "Epoch 25/60\n",
            "12800/12800 [==============================] - 22s 2ms/step - loss: 7.9412 - mean_squared_error: 7.9412 - val_loss: 12.3753 - val_mean_squared_error: 12.3753\n",
            "Epoch 26/60\n",
            "12800/12800 [==============================] - 22s 2ms/step - loss: 7.9067 - mean_squared_error: 7.9067 - val_loss: 7.6103 - val_mean_squared_error: 7.6103\n",
            "Epoch 27/60\n",
            "12800/12800 [==============================] - 22s 2ms/step - loss: 7.8945 - mean_squared_error: 7.8945 - val_loss: 7.5347 - val_mean_squared_error: 7.5347\n",
            "Epoch 28/60\n",
            "12800/12800 [==============================] - 22s 2ms/step - loss: 7.8054 - mean_squared_error: 7.8054 - val_loss: 9.4395 - val_mean_squared_error: 9.4395\n",
            "Epoch 29/60\n",
            "12800/12800 [==============================] - 23s 2ms/step - loss: 7.7574 - mean_squared_error: 7.7574 - val_loss: 7.5524 - val_mean_squared_error: 7.5524\n",
            "Epoch 30/60\n",
            "12800/12800 [==============================] - 23s 2ms/step - loss: 7.7071 - mean_squared_error: 7.7071 - val_loss: 7.4185 - val_mean_squared_error: 7.4185\n",
            "Epoch 31/60\n",
            "12800/12800 [==============================] - 22s 2ms/step - loss: 7.6849 - mean_squared_error: 7.6849 - val_loss: 7.8769 - val_mean_squared_error: 7.8769\n",
            "Epoch 32/60\n",
            "12800/12800 [==============================] - 22s 2ms/step - loss: 7.6577 - mean_squared_error: 7.6577 - val_loss: 7.3205 - val_mean_squared_error: 7.3205\n",
            "Epoch 33/60\n",
            "12800/12800 [==============================] - 22s 2ms/step - loss: 7.6596 - mean_squared_error: 7.6596 - val_loss: 7.2081 - val_mean_squared_error: 7.2081\n",
            "Epoch 34/60\n",
            "12800/12800 [==============================] - 22s 2ms/step - loss: 7.6380 - mean_squared_error: 7.6380 - val_loss: 7.8283 - val_mean_squared_error: 7.8283\n",
            "Epoch 35/60\n",
            "12800/12800 [==============================] - 22s 2ms/step - loss: 7.6494 - mean_squared_error: 7.6494 - val_loss: 8.4730 - val_mean_squared_error: 8.4730\n",
            "Epoch 36/60\n",
            "12800/12800 [==============================] - 22s 2ms/step - loss: 7.5608 - mean_squared_error: 7.5608 - val_loss: 7.6588 - val_mean_squared_error: 7.6588\n",
            "Epoch 37/60\n",
            "12800/12800 [==============================] - 22s 2ms/step - loss: 7.5733 - mean_squared_error: 7.5733 - val_loss: 7.1671 - val_mean_squared_error: 7.1671\n",
            "Epoch 38/60\n",
            "12800/12800 [==============================] - 22s 2ms/step - loss: 7.5431 - mean_squared_error: 7.5431 - val_loss: 8.4970 - val_mean_squared_error: 8.4970\n",
            "Epoch 39/60\n",
            "12800/12800 [==============================] - 22s 2ms/step - loss: 7.5353 - mean_squared_error: 7.5353 - val_loss: 8.1989 - val_mean_squared_error: 8.1989\n",
            "Epoch 40/60\n",
            "12800/12800 [==============================] - 22s 2ms/step - loss: 7.5055 - mean_squared_error: 7.5055 - val_loss: 7.7977 - val_mean_squared_error: 7.7977\n",
            "Epoch 41/60\n",
            "12800/12800 [==============================] - 23s 2ms/step - loss: 7.5412 - mean_squared_error: 7.5412 - val_loss: 8.0211 - val_mean_squared_error: 8.0211\n",
            "Epoch 42/60\n",
            "12800/12800 [==============================] - 23s 2ms/step - loss: 7.4711 - mean_squared_error: 7.4711 - val_loss: 7.1920 - val_mean_squared_error: 7.1920\n",
            "Epoch 43/60\n",
            "12800/12800 [==============================] - 23s 2ms/step - loss: 7.4934 - mean_squared_error: 7.4934 - val_loss: 7.2867 - val_mean_squared_error: 7.2867\n",
            "Epoch 44/60\n",
            "12800/12800 [==============================] - 23s 2ms/step - loss: 7.4726 - mean_squared_error: 7.4726 - val_loss: 7.3516 - val_mean_squared_error: 7.3516\n",
            "Epoch 45/60\n",
            "12800/12800 [==============================] - 22s 2ms/step - loss: 7.4409 - mean_squared_error: 7.4409 - val_loss: 7.5749 - val_mean_squared_error: 7.5749\n",
            "Epoch 46/60\n",
            "12800/12800 [==============================] - 22s 2ms/step - loss: 7.4225 - mean_squared_error: 7.4225 - val_loss: 7.4263 - val_mean_squared_error: 7.4263\n",
            "Epoch 47/60\n",
            "12800/12800 [==============================] - 22s 2ms/step - loss: 7.4547 - mean_squared_error: 7.4547 - val_loss: 8.2318 - val_mean_squared_error: 8.2318\n",
            "Epoch 48/60\n",
            "12800/12800 [==============================] - 22s 2ms/step - loss: 7.4280 - mean_squared_error: 7.4280 - val_loss: 7.1438 - val_mean_squared_error: 7.1438\n",
            "Epoch 49/60\n",
            "12800/12800 [==============================] - 22s 2ms/step - loss: 7.3873 - mean_squared_error: 7.3873 - val_loss: 7.1431 - val_mean_squared_error: 7.1431\n",
            "Epoch 50/60\n",
            "12800/12800 [==============================] - 22s 2ms/step - loss: 7.4294 - mean_squared_error: 7.4294 - val_loss: 6.9971 - val_mean_squared_error: 6.9971\n",
            "Epoch 51/60\n",
            "12800/12800 [==============================] - 22s 2ms/step - loss: 7.4086 - mean_squared_error: 7.4086 - val_loss: 7.8583 - val_mean_squared_error: 7.8583\n",
            "Epoch 52/60\n",
            "12800/12800 [==============================] - 22s 2ms/step - loss: 7.4090 - mean_squared_error: 7.4090 - val_loss: 7.0511 - val_mean_squared_error: 7.0511\n",
            "Epoch 53/60\n",
            "12800/12800 [==============================] - 23s 2ms/step - loss: 7.3785 - mean_squared_error: 7.3785 - val_loss: 7.0333 - val_mean_squared_error: 7.0333\n",
            "Epoch 54/60\n",
            "12800/12800 [==============================] - 22s 2ms/step - loss: 7.3592 - mean_squared_error: 7.3592 - val_loss: 7.5166 - val_mean_squared_error: 7.5166\n",
            "Epoch 55/60\n",
            "12800/12800 [==============================] - 23s 2ms/step - loss: 7.3804 - mean_squared_error: 7.3804 - val_loss: 7.0168 - val_mean_squared_error: 7.0168\n",
            "Epoch 56/60\n",
            "12800/12800 [==============================] - 23s 2ms/step - loss: 7.3357 - mean_squared_error: 7.3357 - val_loss: 7.0415 - val_mean_squared_error: 7.0415\n",
            "Epoch 57/60\n",
            "12800/12800 [==============================] - 23s 2ms/step - loss: 7.3653 - mean_squared_error: 7.3653 - val_loss: 7.3018 - val_mean_squared_error: 7.3018\n",
            "Epoch 58/60\n",
            "12800/12800 [==============================] - 23s 2ms/step - loss: 7.3112 - mean_squared_error: 7.3112 - val_loss: 7.4150 - val_mean_squared_error: 7.4150\n",
            "Epoch 59/60\n",
            "12800/12800 [==============================] - 22s 2ms/step - loss: 7.3551 - mean_squared_error: 7.3551 - val_loss: 6.9314 - val_mean_squared_error: 6.9314\n",
            "Epoch 60/60\n",
            "12800/12800 [==============================] - 22s 2ms/step - loss: 7.3348 - mean_squared_error: 7.3348 - val_loss: 6.9301 - val_mean_squared_error: 6.9301\n"
          ],
          "name": "stdout"
        }
      ]
    },
    {
      "cell_type": "code",
      "metadata": {
        "id": "gQaXBWWLOfhP"
      },
      "source": [
        "def plot_loss(history):\r\n",
        "  plt.plot(history.history['loss'], label='loss')\r\n",
        "  plt.plot(history.history['val_loss'], label='val_loss')\r\n",
        "  #plt.ylim([0, 10])\r\n",
        "  plt.xlabel('Epoch')\r\n",
        "  plt.ylabel('Error T1')\r\n",
        "  plt.legend()\r\n",
        "  plt.grid(True)"
      ],
      "execution_count": 13,
      "outputs": []
    },
    {
      "cell_type": "code",
      "metadata": {
        "colab": {
          "base_uri": "https://localhost:8080/",
          "height": 279
        },
        "id": "PLpBwv9xPBdM",
        "outputId": "8a51dd84-b6ff-4b2e-d92d-3a5f99b9b5c9"
      },
      "source": [
        "plot_loss(history)"
      ],
      "execution_count": 14,
      "outputs": [
        {
          "output_type": "display_data",
          "data": {
            "image/png": "[encoded data removed]",
            "text/plain": [
              "<Figure size 432x288 with 1 Axes>"
            ]
          },
          "metadata": {
            "tags": [],
            "needs_background": "light"
          }
        }
      ]
    },
    {
      "cell_type": "code",
      "metadata": {
        "colab": {
          "base_uri": "https://localhost:8080/"
        },
        "id": "Q4cptHWNPDY7",
        "outputId": "cb5b9163-8699-40a8-ffe7-9bac2d9731b5"
      },
      "source": [
        "test_result = model.evaluate(X_test, y_test)\r\n",
        "print(test_result)"
      ],
      "execution_count": 15,
      "outputs": [
        {
          "output_type": "stream",
          "text": [
            "25000/25000 [==============================] - 37s 1ms/step - loss: 6.9164 - mean_squared_error: 6.9164\n",
            "[6.916352272033691, 6.916352272033691]\n"
          ],
          "name": "stdout"
        }
      ]
    },
    {
      "cell_type": "code",
      "metadata": {
        "colab": {
          "base_uri": "https://localhost:8080/"
        },
        "id": "jUA6GXLCaAVa",
        "outputId": "0713af41-99bc-452a-82b5-92118fb45b94"
      },
      "source": [
        "model.save('T1Model')"
      ],
      "execution_count": 16,
      "outputs": [
        {
          "output_type": "stream",
          "text": [
            "INFO:tensorflow:Assets written to: T1Model/assets\n"
          ],
          "name": "stdout"
        }
      ]
    },
    {
      "cell_type": "code",
      "metadata": {
        "id": "pRCQoDe-Z70k"
      },
      "source": [
        "del X_train, X_test, y_train, y_test, model\r\n",
        "gc.collect()"
      ],
      "execution_count": null,
      "outputs": []
    },
    {
      "cell_type": "markdown",
      "metadata": {
        "id": "I_BginR7R99b"
      },
      "source": [
        "# Model for T2 Calculation"
      ]
    },
    {
      "cell_type": "code",
      "metadata": {
        "id": "1jbdWJHkSAfj"
      },
      "source": [
        "X_train, X_test, y_train, y_test = train_test_split(X, y_2, test_size = 0.2, random_state = 42)"
      ],
      "execution_count": 19,
      "outputs": []
    },
    {
      "cell_type": "code",
      "metadata": {
        "id": "VkRNg6OzSIAw"
      },
      "source": [
        "model = Sequential()\r\n",
        "model.add(Dense(16,activation='relu', input_shape = (10,)))\r\n",
        "model.add(Dense(2, activation='relu'))\r\n",
        "model.add(Dense(1))\r\n",
        "model.compile(optimizer= tf.keras.optimizers.Adam(learning_rate = 0.01), loss = 'mean_squared_error', metrics = 'mean_squared_error')"
      ],
      "execution_count": 24,
      "outputs": []
    },
    {
      "cell_type": "code",
      "metadata": {
        "colab": {
          "base_uri": "https://localhost:8080/"
        },
        "id": "ZrZhmndFSI7r",
        "outputId": "af60c9ce-6731-4163-c9e3-098d1036a4e4"
      },
      "source": [
        "model.summary()"
      ],
      "execution_count": 25,
      "outputs": [
        {
          "output_type": "stream",
          "text": [
            "Model: \"sequential_2\"\n",
            "_________________________________________________________________\n",
            "Layer (type)                 Output Shape              Param #   \n",
            "=================================================================\n",
            "dense_6 (Dense)              (None, 16)                176       \n",
            "_________________________________________________________________\n",
            "dense_7 (Dense)              (None, 2)                 34        \n",
            "_________________________________________________________________\n",
            "dense_8 (Dense)              (None, 1)                 3         \n",
            "=================================================================\n",
            "Total params: 213\n",
            "Trainable params: 213\n",
            "Non-trainable params: 0\n",
            "_________________________________________________________________\n"
          ],
          "name": "stdout"
        }
      ]
    },
    {
      "cell_type": "code",
      "metadata": {
        "colab": {
          "base_uri": "https://localhost:8080/"
        },
        "id": "rV_CksczSNR7",
        "outputId": "1145307f-715d-40cc-d0af-01b42784e6bc"
      },
      "source": [
        "history = model.fit(X_train, y_train,validation_split=0.2, epochs=60, batch_size = 200)"
      ],
      "execution_count": 26,
      "outputs": [
        {
          "output_type": "stream",
          "text": [
            "Epoch 1/60\n",
            "12800/12800 [==============================] - 23s 2ms/step - loss: 47.1678 - mean_squared_error: 47.1678 - val_loss: 4.7465 - val_mean_squared_error: 4.7465\n",
            "Epoch 2/60\n",
            "12800/12800 [==============================] - 23s 2ms/step - loss: 3.6767 - mean_squared_error: 3.6767 - val_loss: 2.7561 - val_mean_squared_error: 2.7561\n",
            "Epoch 3/60\n",
            "12800/12800 [==============================] - 22s 2ms/step - loss: 2.5043 - mean_squared_error: 2.5043 - val_loss: 2.0682 - val_mean_squared_error: 2.0682\n",
            "Epoch 4/60\n",
            "12800/12800 [==============================] - 22s 2ms/step - loss: 1.9715 - mean_squared_error: 1.9715 - val_loss: 1.3782 - val_mean_squared_error: 1.3782\n",
            "Epoch 5/60\n",
            "12800/12800 [==============================] - 22s 2ms/step - loss: 1.4031 - mean_squared_error: 1.4031 - val_loss: 1.0233 - val_mean_squared_error: 1.0233\n",
            "Epoch 6/60\n",
            "12800/12800 [==============================] - 22s 2ms/step - loss: 1.1934 - mean_squared_error: 1.1934 - val_loss: 1.0213 - val_mean_squared_error: 1.0213\n",
            "Epoch 7/60\n",
            "12800/12800 [==============================] - 22s 2ms/step - loss: 1.1376 - mean_squared_error: 1.1376 - val_loss: 1.7629 - val_mean_squared_error: 1.7629\n",
            "Epoch 8/60\n",
            "12800/12800 [==============================] - 22s 2ms/step - loss: 1.1059 - mean_squared_error: 1.1059 - val_loss: 1.3804 - val_mean_squared_error: 1.3804\n",
            "Epoch 9/60\n",
            "12800/12800 [==============================] - 22s 2ms/step - loss: 1.0628 - mean_squared_error: 1.0628 - val_loss: 0.8421 - val_mean_squared_error: 0.8421\n",
            "Epoch 10/60\n",
            "12800/12800 [==============================] - 22s 2ms/step - loss: 1.0420 - mean_squared_error: 1.0420 - val_loss: 1.1047 - val_mean_squared_error: 1.1047\n",
            "Epoch 11/60\n",
            "12800/12800 [==============================] - 22s 2ms/step - loss: 1.0198 - mean_squared_error: 1.0198 - val_loss: 1.1317 - val_mean_squared_error: 1.1317\n",
            "Epoch 12/60\n",
            "12800/12800 [==============================] - 22s 2ms/step - loss: 1.0146 - mean_squared_error: 1.0146 - val_loss: 1.0314 - val_mean_squared_error: 1.0314\n",
            "Epoch 13/60\n",
            "12800/12800 [==============================] - 22s 2ms/step - loss: 0.9934 - mean_squared_error: 0.9934 - val_loss: 0.8345 - val_mean_squared_error: 0.8345\n",
            "Epoch 14/60\n",
            "12800/12800 [==============================] - 22s 2ms/step - loss: 0.9868 - mean_squared_error: 0.9868 - val_loss: 0.9776 - val_mean_squared_error: 0.9776\n",
            "Epoch 15/60\n",
            "12800/12800 [==============================] - 23s 2ms/step - loss: 0.9697 - mean_squared_error: 0.9697 - val_loss: 0.8494 - val_mean_squared_error: 0.8494\n",
            "Epoch 16/60\n",
            "12800/12800 [==============================] - 22s 2ms/step - loss: 0.9715 - mean_squared_error: 0.9715 - val_loss: 1.0150 - val_mean_squared_error: 1.0150\n",
            "Epoch 17/60\n",
            "12800/12800 [==============================] - 22s 2ms/step - loss: 0.9629 - mean_squared_error: 0.9629 - val_loss: 0.8226 - val_mean_squared_error: 0.8226\n",
            "Epoch 18/60\n",
            "12800/12800 [==============================] - 22s 2ms/step - loss: 0.9581 - mean_squared_error: 0.9581 - val_loss: 0.8905 - val_mean_squared_error: 0.8905\n",
            "Epoch 19/60\n",
            "12800/12800 [==============================] - 22s 2ms/step - loss: 0.9530 - mean_squared_error: 0.9530 - val_loss: 0.7866 - val_mean_squared_error: 0.7866\n",
            "Epoch 20/60\n",
            "12800/12800 [==============================] - 22s 2ms/step - loss: 0.9480 - mean_squared_error: 0.9480 - val_loss: 1.0715 - val_mean_squared_error: 1.0715\n",
            "Epoch 21/60\n",
            "12800/12800 [==============================] - 22s 2ms/step - loss: 0.9480 - mean_squared_error: 0.9480 - val_loss: 1.0659 - val_mean_squared_error: 1.0659\n",
            "Epoch 22/60\n",
            "12800/12800 [==============================] - 22s 2ms/step - loss: 0.9437 - mean_squared_error: 0.9437 - val_loss: 0.8713 - val_mean_squared_error: 0.8713\n",
            "Epoch 23/60\n",
            "12800/12800 [==============================] - 22s 2ms/step - loss: 0.9330 - mean_squared_error: 0.9330 - val_loss: 0.7811 - val_mean_squared_error: 0.7811\n",
            "Epoch 24/60\n",
            "12800/12800 [==============================] - 22s 2ms/step - loss: 0.9232 - mean_squared_error: 0.9232 - val_loss: 0.8057 - val_mean_squared_error: 0.8057\n",
            "Epoch 25/60\n",
            "12800/12800 [==============================] - 22s 2ms/step - loss: 0.9270 - mean_squared_error: 0.9270 - val_loss: 1.0888 - val_mean_squared_error: 1.0888\n",
            "Epoch 26/60\n",
            "12800/12800 [==============================] - 23s 2ms/step - loss: 0.9212 - mean_squared_error: 0.9212 - val_loss: 0.9195 - val_mean_squared_error: 0.9195\n",
            "Epoch 27/60\n",
            "12800/12800 [==============================] - 22s 2ms/step - loss: 0.9180 - mean_squared_error: 0.9180 - val_loss: 0.8258 - val_mean_squared_error: 0.8258\n",
            "Epoch 28/60\n",
            "12800/12800 [==============================] - 22s 2ms/step - loss: 0.9156 - mean_squared_error: 0.9156 - val_loss: 0.9616 - val_mean_squared_error: 0.9616\n",
            "Epoch 29/60\n",
            "12800/12800 [==============================] - 23s 2ms/step - loss: 0.9138 - mean_squared_error: 0.9138 - val_loss: 0.8890 - val_mean_squared_error: 0.8890\n",
            "Epoch 30/60\n",
            "12800/12800 [==============================] - 22s 2ms/step - loss: 0.9024 - mean_squared_error: 0.9024 - val_loss: 0.8185 - val_mean_squared_error: 0.8185\n",
            "Epoch 31/60\n",
            "12800/12800 [==============================] - 22s 2ms/step - loss: 0.9069 - mean_squared_error: 0.9069 - val_loss: 0.7716 - val_mean_squared_error: 0.7716\n",
            "Epoch 32/60\n",
            "12800/12800 [==============================] - 22s 2ms/step - loss: 0.9102 - mean_squared_error: 0.9102 - val_loss: 0.8591 - val_mean_squared_error: 0.8591\n",
            "Epoch 33/60\n",
            "12800/12800 [==============================] - 23s 2ms/step - loss: 0.8984 - mean_squared_error: 0.8984 - val_loss: 0.8201 - val_mean_squared_error: 0.8201\n",
            "Epoch 34/60\n",
            "12800/12800 [==============================] - 23s 2ms/step - loss: 0.8890 - mean_squared_error: 0.8890 - val_loss: 0.8210 - val_mean_squared_error: 0.8210\n",
            "Epoch 35/60\n",
            "12800/12800 [==============================] - 22s 2ms/step - loss: 0.8932 - mean_squared_error: 0.8932 - val_loss: 0.7660 - val_mean_squared_error: 0.7660\n",
            "Epoch 36/60\n",
            "12800/12800 [==============================] - 22s 2ms/step - loss: 0.8844 - mean_squared_error: 0.8844 - val_loss: 0.7830 - val_mean_squared_error: 0.7830\n",
            "Epoch 37/60\n",
            "12800/12800 [==============================] - 22s 2ms/step - loss: 0.8757 - mean_squared_error: 0.8757 - val_loss: 0.9899 - val_mean_squared_error: 0.9899\n",
            "Epoch 38/60\n",
            "12800/12800 [==============================] - 22s 2ms/step - loss: 0.8836 - mean_squared_error: 0.8836 - val_loss: 0.9750 - val_mean_squared_error: 0.9750\n",
            "Epoch 39/60\n",
            "12800/12800 [==============================] - 22s 2ms/step - loss: 0.8700 - mean_squared_error: 0.8700 - val_loss: 0.8289 - val_mean_squared_error: 0.8289\n",
            "Epoch 40/60\n",
            "12800/12800 [==============================] - 23s 2ms/step - loss: 0.8697 - mean_squared_error: 0.8697 - val_loss: 0.7928 - val_mean_squared_error: 0.7928\n",
            "Epoch 41/60\n",
            "12800/12800 [==============================] - 22s 2ms/step - loss: 0.8717 - mean_squared_error: 0.8717 - val_loss: 0.8188 - val_mean_squared_error: 0.8188\n",
            "Epoch 42/60\n",
            "12800/12800 [==============================] - 22s 2ms/step - loss: 0.8642 - mean_squared_error: 0.8642 - val_loss: 0.7645 - val_mean_squared_error: 0.7645\n",
            "Epoch 43/60\n",
            "12800/12800 [==============================] - 23s 2ms/step - loss: 0.8649 - mean_squared_error: 0.8649 - val_loss: 0.8139 - val_mean_squared_error: 0.8139\n",
            "Epoch 44/60\n",
            "12800/12800 [==============================] - 22s 2ms/step - loss: 0.8615 - mean_squared_error: 0.8615 - val_loss: 0.8316 - val_mean_squared_error: 0.8316\n",
            "Epoch 45/60\n",
            "12800/12800 [==============================] - 23s 2ms/step - loss: 0.8631 - mean_squared_error: 0.8631 - val_loss: 0.8806 - val_mean_squared_error: 0.8806\n",
            "Epoch 46/60\n",
            "12800/12800 [==============================] - 22s 2ms/step - loss: 0.8516 - mean_squared_error: 0.8516 - val_loss: 1.6968 - val_mean_squared_error: 1.6968\n",
            "Epoch 47/60\n",
            "12800/12800 [==============================] - 22s 2ms/step - loss: 0.8568 - mean_squared_error: 0.8568 - val_loss: 0.7491 - val_mean_squared_error: 0.7491\n",
            "Epoch 48/60\n",
            "12800/12800 [==============================] - 23s 2ms/step - loss: 0.8556 - mean_squared_error: 0.8556 - val_loss: 0.7374 - val_mean_squared_error: 0.7374\n",
            "Epoch 49/60\n",
            "12800/12800 [==============================] - 22s 2ms/step - loss: 0.8545 - mean_squared_error: 0.8545 - val_loss: 0.8607 - val_mean_squared_error: 0.8607\n",
            "Epoch 50/60\n",
            "12800/12800 [==============================] - 23s 2ms/step - loss: 0.8519 - mean_squared_error: 0.8519 - val_loss: 0.8715 - val_mean_squared_error: 0.8715\n",
            "Epoch 51/60\n",
            "12800/12800 [==============================] - 23s 2ms/step - loss: 0.8494 - mean_squared_error: 0.8494 - val_loss: 0.9712 - val_mean_squared_error: 0.9712\n",
            "Epoch 52/60\n",
            "12800/12800 [==============================] - 22s 2ms/step - loss: 0.8452 - mean_squared_error: 0.8452 - val_loss: 0.8216 - val_mean_squared_error: 0.8216\n",
            "Epoch 53/60\n",
            "12800/12800 [==============================] - 23s 2ms/step - loss: 0.8517 - mean_squared_error: 0.8517 - val_loss: 0.8568 - val_mean_squared_error: 0.8568\n",
            "Epoch 54/60\n",
            "12800/12800 [==============================] - 23s 2ms/step - loss: 0.8386 - mean_squared_error: 0.8386 - val_loss: 0.8283 - val_mean_squared_error: 0.8283\n",
            "Epoch 55/60\n",
            "12800/12800 [==============================] - 22s 2ms/step - loss: 0.8393 - mean_squared_error: 0.8393 - val_loss: 0.7451 - val_mean_squared_error: 0.7451\n",
            "Epoch 56/60\n",
            "12800/12800 [==============================] - 22s 2ms/step - loss: 0.8392 - mean_squared_error: 0.8392 - val_loss: 0.7351 - val_mean_squared_error: 0.7351\n",
            "Epoch 57/60\n",
            "12800/12800 [==============================] - 23s 2ms/step - loss: 0.8338 - mean_squared_error: 0.8338 - val_loss: 0.7581 - val_mean_squared_error: 0.7581\n",
            "Epoch 58/60\n",
            "12800/12800 [==============================] - 23s 2ms/step - loss: 0.8328 - mean_squared_error: 0.8328 - val_loss: 0.8792 - val_mean_squared_error: 0.8792\n",
            "Epoch 59/60\n",
            "12800/12800 [==============================] - 23s 2ms/step - loss: 0.8364 - mean_squared_error: 0.8364 - val_loss: 0.7816 - val_mean_squared_error: 0.7816\n",
            "Epoch 60/60\n",
            "12800/12800 [==============================] - 23s 2ms/step - loss: 0.8326 - mean_squared_error: 0.8326 - val_loss: 0.9709 - val_mean_squared_error: 0.9709\n"
          ],
          "name": "stdout"
        }
      ]
    },
    {
      "cell_type": "code",
      "metadata": {
        "colab": {
          "base_uri": "https://localhost:8080/",
          "height": 279
        },
        "id": "S_EVw8FbSYE4",
        "outputId": "1443ec81-514e-49c3-a7a7-2cb7ba0f235a"
      },
      "source": [
        "plot_loss(history)"
      ],
      "execution_count": 27,
      "outputs": [
        {
          "output_type": "display_data",
          "data": {
            "image/png": "[encoded data removed]",
            "text/plain": [
              "<Figure size 432x288 with 1 Axes>"
            ]
          },
          "metadata": {
            "tags": [],
            "needs_background": "light"
          }
        }
      ]
    },
    {
      "cell_type": "code",
      "metadata": {
        "colab": {
          "base_uri": "https://localhost:8080/"
        },
        "id": "8IiZlCRnSYE6",
        "outputId": "18c04a2d-e992-4a2b-f835-d9dec6728bdc"
      },
      "source": [
        "test_result = model.evaluate(X_test, y_test)\r\n",
        "print(test_result)"
      ],
      "execution_count": 28,
      "outputs": [
        {
          "output_type": "stream",
          "text": [
            "25000/25000 [==============================] - 37s 1ms/step - loss: 0.9685 - mean_squared_error: 0.9685\n",
            "[0.9684787392616272, 0.9684787392616272]\n"
          ],
          "name": "stdout"
        }
      ]
    },
    {
      "cell_type": "code",
      "metadata": {
        "colab": {
          "base_uri": "https://localhost:8080/"
        },
        "id": "Z_rkN2nzScJl",
        "outputId": "d04a54a3-d3a5-4c4e-a80b-281c9b588fa4"
      },
      "source": [
        "model.save('T2Model')"
      ],
      "execution_count": 29,
      "outputs": [
        {
          "output_type": "stream",
          "text": [
            "INFO:tensorflow:Assets written to: T2Model/assets\n"
          ],
          "name": "stdout"
        }
      ]
    },
    {
      "cell_type": "code",
      "metadata": {
        "id": "gCeQ4zwAaWM8"
      },
      "source": [
        ""
      ],
      "execution_count": null,
      "outputs": []
    }
  ]
}