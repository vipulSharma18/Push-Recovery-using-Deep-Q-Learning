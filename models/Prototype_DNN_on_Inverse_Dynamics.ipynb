{
  "nbformat": 4,
  "nbformat_minor": 0,
  "metadata": {
    "colab": {
      "name": "DNN on Inverse Dynamics.ipynb",
      "provenance": [],
      "collapsed_sections": [],
      "mount_file_id": "11cGx58Sx0wgCnfbI8OtXB9MjbtSKe_4G",
      "authorship_tag": "ABX9TyPm8p0sJm8xeETW06gpzl+O",
      "include_colab_link": true
    },
    "kernelspec": {
      "name": "python3",
      "display_name": "Python 3"
    },
    "accelerator": "GPU"
  },
  "cells": [
    {
      "cell_type": "markdown",
      "metadata": {
        "id": "view-in-github",
        "colab_type": "text"
      },
      "source": [
        "<a href=\"https://colab.research.google.com/github/vipulSharma18/Push-Recovery-using-Deep-Q-Learning/blob/main/models/Prototype_DNN_on_Inverse_Dynamics.ipynb\" target=\"_parent\"><img src=\"https://colab.research.google.com/assets/colab-badge.svg\" alt=\"Open In Colab\"/></a>"
      ]
    },
    {
      "cell_type": "code",
      "metadata": {
        "id": "U7RUZwrBE61v"
      },
      "source": [
        "from sklearn.model_selection import train_test_split\r\n",
        "from tensorflow.keras import Sequential\r\n",
        "from tensorflow.keras.layers import Dense\r\n",
        "import pandas as pd\r\n",
        "import matplotlib.pyplot as plt\r\n",
        "import numpy as np\r\n",
        "import tensorflow as tf"
      ],
      "execution_count": 1,
      "outputs": []
    },
    {
      "cell_type": "code",
      "metadata": {
        "id": "wUXIUoaLGEiq"
      },
      "source": [
        "import gc"
      ],
      "execution_count": 31,
      "outputs": []
    },
    {
      "cell_type": "code",
      "metadata": {
        "id": "uzgtp8ReFdhi"
      },
      "source": [
        "dataset = pd.read_hdf(\"/content/drive/MyDrive/Inverse Dynamics/InverseDynamicDataset.h5\", key = 'dataset')"
      ],
      "execution_count": 3,
      "outputs": []
    },
    {
      "cell_type": "code",
      "metadata": {
        "colab": {
          "base_uri": "https://localhost:8080/",
          "height": 195
        },
        "id": "H4x10RqMGJlL",
        "outputId": "0181f64c-aa11-4958-abaa-e650f8b4177d"
      },
      "source": [
        "dataset.head()"
      ],
      "execution_count": 4,
      "outputs": [
        {
          "output_type": "execute_result",
          "data": {
            "text/html": [
              "<div>\n",
              "<style scoped>\n",
              "    .dataframe tbody tr th:only-of-type {\n",
              "        vertical-align: middle;\n",
              "    }\n",
              "\n",
              "    .dataframe tbody tr th {\n",
              "        vertical-align: top;\n",
              "    }\n",
              "\n",
              "    .dataframe thead th {\n",
              "        text-align: right;\n",
              "    }\n",
              "</style>\n",
              "<table border=\"1\" class=\"dataframe\">\n",
              "  <thead>\n",
              "    <tr style=\"text-align: right;\">\n",
              "      <th></th>\n",
              "      <th>Mass1</th>\n",
              "      <th>Length1</th>\n",
              "      <th>Mass2</th>\n",
              "      <th>Length2</th>\n",
              "      <th>Theta1</th>\n",
              "      <th>Theta2</th>\n",
              "      <th>Velocity1</th>\n",
              "      <th>Velocity2</th>\n",
              "      <th>Acceleration1</th>\n",
              "      <th>Acceleration2</th>\n",
              "      <th>T1</th>\n",
              "      <th>T2</th>\n",
              "    </tr>\n",
              "  </thead>\n",
              "  <tbody>\n",
              "    <tr>\n",
              "      <th>0</th>\n",
              "      <td>3.2</td>\n",
              "      <td>0.44</td>\n",
              "      <td>10.13</td>\n",
              "      <td>0.42</td>\n",
              "      <td>59.03</td>\n",
              "      <td>84.71</td>\n",
              "      <td>4.53</td>\n",
              "      <td>-2.24</td>\n",
              "      <td>2.36</td>\n",
              "      <td>-1.01</td>\n",
              "      <td>33.00</td>\n",
              "      <td>7.45</td>\n",
              "    </tr>\n",
              "    <tr>\n",
              "      <th>1</th>\n",
              "      <td>3.2</td>\n",
              "      <td>0.44</td>\n",
              "      <td>10.13</td>\n",
              "      <td>0.42</td>\n",
              "      <td>59.03</td>\n",
              "      <td>84.71</td>\n",
              "      <td>4.53</td>\n",
              "      <td>-2.24</td>\n",
              "      <td>2.36</td>\n",
              "      <td>1.70</td>\n",
              "      <td>38.77</td>\n",
              "      <td>12.29</td>\n",
              "    </tr>\n",
              "    <tr>\n",
              "      <th>2</th>\n",
              "      <td>3.2</td>\n",
              "      <td>0.44</td>\n",
              "      <td>10.13</td>\n",
              "      <td>0.42</td>\n",
              "      <td>59.03</td>\n",
              "      <td>84.71</td>\n",
              "      <td>4.53</td>\n",
              "      <td>-2.24</td>\n",
              "      <td>2.36</td>\n",
              "      <td>2.05</td>\n",
              "      <td>39.52</td>\n",
              "      <td>12.92</td>\n",
              "    </tr>\n",
              "    <tr>\n",
              "      <th>3</th>\n",
              "      <td>3.2</td>\n",
              "      <td>0.44</td>\n",
              "      <td>10.13</td>\n",
              "      <td>0.42</td>\n",
              "      <td>59.03</td>\n",
              "      <td>84.71</td>\n",
              "      <td>4.53</td>\n",
              "      <td>-2.24</td>\n",
              "      <td>2.36</td>\n",
              "      <td>1.10</td>\n",
              "      <td>37.49</td>\n",
              "      <td>11.22</td>\n",
              "    </tr>\n",
              "    <tr>\n",
              "      <th>4</th>\n",
              "      <td>3.2</td>\n",
              "      <td>0.44</td>\n",
              "      <td>10.13</td>\n",
              "      <td>0.42</td>\n",
              "      <td>59.03</td>\n",
              "      <td>84.71</td>\n",
              "      <td>4.53</td>\n",
              "      <td>-2.24</td>\n",
              "      <td>2.36</td>\n",
              "      <td>0.40</td>\n",
              "      <td>36.00</td>\n",
              "      <td>9.97</td>\n",
              "    </tr>\n",
              "  </tbody>\n",
              "</table>\n",
              "</div>"
            ],
            "text/plain": [
              "   Mass1  Length1  Mass2  Length2  ...  Acceleration1  Acceleration2     T1     T2\n",
              "0    3.2     0.44  10.13     0.42  ...           2.36          -1.01  33.00   7.45\n",
              "1    3.2     0.44  10.13     0.42  ...           2.36           1.70  38.77  12.29\n",
              "2    3.2     0.44  10.13     0.42  ...           2.36           2.05  39.52  12.92\n",
              "3    3.2     0.44  10.13     0.42  ...           2.36           1.10  37.49  11.22\n",
              "4    3.2     0.44  10.13     0.42  ...           2.36           0.40  36.00   9.97\n",
              "\n",
              "[5 rows x 12 columns]"
            ]
          },
          "metadata": {
            "tags": []
          },
          "execution_count": 4
        }
      ]
    },
    {
      "cell_type": "code",
      "metadata": {
        "id": "3q3tWRA5GTp5"
      },
      "source": [
        "X_cols = list(dataset.columns)[:-2]"
      ],
      "execution_count": 5,
      "outputs": []
    },
    {
      "cell_type": "code",
      "metadata": {
        "id": "9xzWoQcjGgWj"
      },
      "source": [
        "y_1_col = ['T1']\r\n",
        "y_2_col = ['T2']"
      ],
      "execution_count": 6,
      "outputs": []
    },
    {
      "cell_type": "code",
      "metadata": {
        "id": "-ql80IVbG3eg"
      },
      "source": [
        "X = dataset[X_cols]\r\n",
        "y_1 = dataset[y_1_col]\r\n",
        "y_2 = dataset[y_2_col]"
      ],
      "execution_count": 7,
      "outputs": []
    },
    {
      "cell_type": "code",
      "metadata": {
        "colab": {
          "base_uri": "https://localhost:8080/"
        },
        "id": "VUqE9fMtHApu",
        "outputId": "93a9d2fb-d7d0-43c1-f48a-bfb5921a2f4e"
      },
      "source": [
        "y_1.shape, y_2.shape, X.shape"
      ],
      "execution_count": 8,
      "outputs": [
        {
          "output_type": "execute_result",
          "data": {
            "text/plain": [
              "((4000000, 1), (4000000, 1), (4000000, 10))"
            ]
          },
          "metadata": {
            "tags": []
          },
          "execution_count": 8
        }
      ]
    },
    {
      "cell_type": "markdown",
      "metadata": {
        "id": "FRTK_pz9HHiz"
      },
      "source": [
        "# Model For T1 calculation"
      ]
    },
    {
      "cell_type": "code",
      "metadata": {
        "id": "dy4ATRzZHC9A"
      },
      "source": [
        "X_train, X_test, y_train, y_test = train_test_split(X, y_1, test_size = 0.2, random_state = 42)"
      ],
      "execution_count": 33,
      "outputs": []
    },
    {
      "cell_type": "code",
      "metadata": {
        "id": "xq5lpIi7IKba"
      },
      "source": [
        "model = Sequential()\r\n",
        "model.add(Dense(16,activation='relu', input_shape = (10,)))\r\n",
        "model.add(Dense(2, activation='relu'))\r\n",
        "model.add(Dense(1))\r\n",
        "model.compile(optimizer= tf.keras.optimizers.Adam(learning_rate = 0.01), loss = 'mean_squared_error', metrics = 'mean_squared_error')"
      ],
      "execution_count": 34,
      "outputs": []
    },
    {
      "cell_type": "code",
      "metadata": {
        "colab": {
          "base_uri": "https://localhost:8080/"
        },
        "id": "BTtmQbWDNXuj",
        "outputId": "01e97f8f-f910-4a6e-8d0e-e97401f68f20"
      },
      "source": [
        "model.summary()"
      ],
      "execution_count": 35,
      "outputs": [
        {
          "output_type": "stream",
          "text": [
            "Model: \"sequential_3\"\n",
            "_________________________________________________________________\n",
            "Layer (type)                 Output Shape              Param #   \n",
            "=================================================================\n",
            "dense_9 (Dense)              (None, 16)                176       \n",
            "_________________________________________________________________\n",
            "dense_10 (Dense)             (None, 2)                 34        \n",
            "_________________________________________________________________\n",
            "dense_11 (Dense)             (None, 1)                 3         \n",
            "=================================================================\n",
            "Total params: 213\n",
            "Trainable params: 213\n",
            "Non-trainable params: 0\n",
            "_________________________________________________________________\n"
          ],
          "name": "stdout"
        }
      ]
    },
    {
      "cell_type": "code",
      "metadata": {
        "colab": {
          "base_uri": "https://localhost:8080/"
        },
        "id": "ovK2hmxiNdpf",
        "outputId": "05e19dcd-1093-412f-a7c9-9dc844890480"
      },
      "source": [
        "history = model.fit(X_train, y_train,validation_split=0.2, epochs=60, batch_size = 200)"
      ],
      "execution_count": 36,
      "outputs": [
        {
          "output_type": "stream",
          "text": [
            "Epoch 1/60\n",
            "12800/12800 [==============================] - 23s 2ms/step - loss: 344.0851 - mean_squared_error: 344.0851 - val_loss: 241.3507 - val_mean_squared_error: 241.3507\n",
            "Epoch 2/60\n",
            "12800/12800 [==============================] - 22s 2ms/step - loss: 238.2348 - mean_squared_error: 238.2348 - val_loss: 229.1815 - val_mean_squared_error: 229.1815\n",
            "Epoch 3/60\n",
            "12800/12800 [==============================] - 22s 2ms/step - loss: 230.3763 - mean_squared_error: 230.3763 - val_loss: 223.5822 - val_mean_squared_error: 223.5822\n",
            "Epoch 4/60\n",
            "12800/12800 [==============================] - 22s 2ms/step - loss: 228.4007 - mean_squared_error: 228.4007 - val_loss: 227.7439 - val_mean_squared_error: 227.7439\n",
            "Epoch 5/60\n",
            "12800/12800 [==============================] - 22s 2ms/step - loss: 229.5422 - mean_squared_error: 229.5422 - val_loss: 226.0650 - val_mean_squared_error: 226.0650\n",
            "Epoch 6/60\n",
            "12800/12800 [==============================] - 22s 2ms/step - loss: 214.3523 - mean_squared_error: 214.3523 - val_loss: 19.6481 - val_mean_squared_error: 19.6481\n",
            "Epoch 7/60\n",
            "12800/12800 [==============================] - 22s 2ms/step - loss: 15.6127 - mean_squared_error: 15.6127 - val_loss: 8.8478 - val_mean_squared_error: 8.8478\n",
            "Epoch 8/60\n",
            "12800/12800 [==============================] - 22s 2ms/step - loss: 10.3601 - mean_squared_error: 10.3601 - val_loss: 10.7091 - val_mean_squared_error: 10.7091\n",
            "Epoch 9/60\n",
            "12800/12800 [==============================] - 23s 2ms/step - loss: 9.4489 - mean_squared_error: 9.4489 - val_loss: 7.5281 - val_mean_squared_error: 7.5281\n",
            "Epoch 10/60\n",
            "12800/12800 [==============================] - 22s 2ms/step - loss: 7.7550 - mean_squared_error: 7.7550 - val_loss: 6.7677 - val_mean_squared_error: 6.7677\n",
            "Epoch 11/60\n",
            "12800/12800 [==============================] - 22s 2ms/step - loss: 7.7643 - mean_squared_error: 7.7643 - val_loss: 8.4077 - val_mean_squared_error: 8.4077\n",
            "Epoch 12/60\n",
            "12800/12800 [==============================] - 22s 2ms/step - loss: 7.3707 - mean_squared_error: 7.3707 - val_loss: 5.8720 - val_mean_squared_error: 5.8720\n",
            "Epoch 13/60\n",
            "12800/12800 [==============================] - 22s 2ms/step - loss: 7.1679 - mean_squared_error: 7.1679 - val_loss: 5.8904 - val_mean_squared_error: 5.8904\n",
            "Epoch 14/60\n",
            "12800/12800 [==============================] - 23s 2ms/step - loss: 6.9692 - mean_squared_error: 6.9692 - val_loss: 5.8109 - val_mean_squared_error: 5.8109\n",
            "Epoch 15/60\n",
            "12800/12800 [==============================] - 22s 2ms/step - loss: 7.0632 - mean_squared_error: 7.0632 - val_loss: 5.7466 - val_mean_squared_error: 5.7466\n",
            "Epoch 16/60\n",
            "12800/12800 [==============================] - 22s 2ms/step - loss: 6.8263 - mean_squared_error: 6.8263 - val_loss: 5.9590 - val_mean_squared_error: 5.9590\n",
            "Epoch 17/60\n",
            "12800/12800 [==============================] - 22s 2ms/step - loss: 6.7149 - mean_squared_error: 6.7149 - val_loss: 5.7964 - val_mean_squared_error: 5.7964\n",
            "Epoch 18/60\n",
            "12800/12800 [==============================] - 23s 2ms/step - loss: 6.7107 - mean_squared_error: 6.7107 - val_loss: 5.6703 - val_mean_squared_error: 5.6703\n",
            "Epoch 19/60\n",
            "12800/12800 [==============================] - 22s 2ms/step - loss: 6.6520 - mean_squared_error: 6.6520 - val_loss: 5.3124 - val_mean_squared_error: 5.3124\n",
            "Epoch 20/60\n",
            "12800/12800 [==============================] - 22s 2ms/step - loss: 6.5378 - mean_squared_error: 6.5378 - val_loss: 6.0292 - val_mean_squared_error: 6.0292\n",
            "Epoch 21/60\n",
            "12800/12800 [==============================] - 22s 2ms/step - loss: 6.3647 - mean_squared_error: 6.3647 - val_loss: 5.9547 - val_mean_squared_error: 5.9547\n",
            "Epoch 22/60\n",
            "12800/12800 [==============================] - 22s 2ms/step - loss: 6.1554 - mean_squared_error: 6.1554 - val_loss: 5.1125 - val_mean_squared_error: 5.1125\n",
            "Epoch 23/60\n",
            "12800/12800 [==============================] - 23s 2ms/step - loss: 6.1653 - mean_squared_error: 6.1653 - val_loss: 5.0832 - val_mean_squared_error: 5.0832\n",
            "Epoch 24/60\n",
            "12800/12800 [==============================] - 22s 2ms/step - loss: 6.0813 - mean_squared_error: 6.0813 - val_loss: 6.0087 - val_mean_squared_error: 6.0087\n",
            "Epoch 25/60\n",
            "12800/12800 [==============================] - 22s 2ms/step - loss: 6.1199 - mean_squared_error: 6.1199 - val_loss: 5.7395 - val_mean_squared_error: 5.7395\n",
            "Epoch 26/60\n",
            "12800/12800 [==============================] - 22s 2ms/step - loss: 6.0323 - mean_squared_error: 6.0323 - val_loss: 5.4625 - val_mean_squared_error: 5.4625\n",
            "Epoch 27/60\n",
            "12800/12800 [==============================] - 22s 2ms/step - loss: 6.1317 - mean_squared_error: 6.1317 - val_loss: 5.0136 - val_mean_squared_error: 5.0136\n",
            "Epoch 28/60\n",
            "12800/12800 [==============================] - 23s 2ms/step - loss: 5.8773 - mean_squared_error: 5.8773 - val_loss: 6.1296 - val_mean_squared_error: 6.1296\n",
            "Epoch 29/60\n",
            "12800/12800 [==============================] - 22s 2ms/step - loss: 5.8551 - mean_squared_error: 5.8551 - val_loss: 5.2481 - val_mean_squared_error: 5.2481\n",
            "Epoch 30/60\n",
            "12800/12800 [==============================] - 22s 2ms/step - loss: 5.8200 - mean_squared_error: 5.8200 - val_loss: 4.8491 - val_mean_squared_error: 4.8491\n",
            "Epoch 31/60\n",
            "12800/12800 [==============================] - 22s 2ms/step - loss: 5.6924 - mean_squared_error: 5.6924 - val_loss: 7.9029 - val_mean_squared_error: 7.9029\n",
            "Epoch 32/60\n",
            "12800/12800 [==============================] - 22s 2ms/step - loss: 5.7433 - mean_squared_error: 5.7433 - val_loss: 7.6915 - val_mean_squared_error: 7.6915\n",
            "Epoch 33/60\n",
            "12800/12800 [==============================] - 22s 2ms/step - loss: 5.6753 - mean_squared_error: 5.6753 - val_loss: 5.5354 - val_mean_squared_error: 5.5354\n",
            "Epoch 34/60\n",
            "12800/12800 [==============================] - 22s 2ms/step - loss: 5.6131 - mean_squared_error: 5.6131 - val_loss: 4.6820 - val_mean_squared_error: 4.6820\n",
            "Epoch 35/60\n",
            "12800/12800 [==============================] - 22s 2ms/step - loss: 5.4127 - mean_squared_error: 5.4127 - val_loss: 4.9265 - val_mean_squared_error: 4.9265\n",
            "Epoch 36/60\n",
            "12800/12800 [==============================] - 23s 2ms/step - loss: 5.2347 - mean_squared_error: 5.2347 - val_loss: 5.2410 - val_mean_squared_error: 5.2410\n",
            "Epoch 37/60\n",
            "12800/12800 [==============================] - 23s 2ms/step - loss: 5.1906 - mean_squared_error: 5.1906 - val_loss: 7.2906 - val_mean_squared_error: 7.2906\n",
            "Epoch 38/60\n",
            "12800/12800 [==============================] - 22s 2ms/step - loss: 5.1660 - mean_squared_error: 5.1660 - val_loss: 6.0453 - val_mean_squared_error: 6.0453\n",
            "Epoch 39/60\n",
            "12800/12800 [==============================] - 22s 2ms/step - loss: 5.0333 - mean_squared_error: 5.0333 - val_loss: 6.3071 - val_mean_squared_error: 6.3071\n",
            "Epoch 40/60\n",
            "12800/12800 [==============================] - 22s 2ms/step - loss: 5.0373 - mean_squared_error: 5.0373 - val_loss: 4.2221 - val_mean_squared_error: 4.2221\n",
            "Epoch 41/60\n",
            "12800/12800 [==============================] - 23s 2ms/step - loss: 5.0116 - mean_squared_error: 5.0116 - val_loss: 5.9395 - val_mean_squared_error: 5.9395\n",
            "Epoch 42/60\n",
            "12800/12800 [==============================] - 23s 2ms/step - loss: 4.9832 - mean_squared_error: 4.9832 - val_loss: 5.1531 - val_mean_squared_error: 5.1531\n",
            "Epoch 43/60\n",
            "12800/12800 [==============================] - 22s 2ms/step - loss: 4.9814 - mean_squared_error: 4.9814 - val_loss: 4.3148 - val_mean_squared_error: 4.3148\n",
            "Epoch 44/60\n",
            "12800/12800 [==============================] - 22s 2ms/step - loss: 4.9204 - mean_squared_error: 4.9204 - val_loss: 4.3758 - val_mean_squared_error: 4.3758\n",
            "Epoch 45/60\n",
            "12800/12800 [==============================] - 22s 2ms/step - loss: 4.9288 - mean_squared_error: 4.9288 - val_loss: 4.8058 - val_mean_squared_error: 4.8058\n",
            "Epoch 46/60\n",
            "12800/12800 [==============================] - 22s 2ms/step - loss: 4.9138 - mean_squared_error: 4.9138 - val_loss: 4.6915 - val_mean_squared_error: 4.6915\n",
            "Epoch 47/60\n",
            "12800/12800 [==============================] - 22s 2ms/step - loss: 4.8696 - mean_squared_error: 4.8696 - val_loss: 6.8465 - val_mean_squared_error: 6.8465\n",
            "Epoch 48/60\n",
            "12800/12800 [==============================] - 22s 2ms/step - loss: 4.8179 - mean_squared_error: 4.8179 - val_loss: 4.4750 - val_mean_squared_error: 4.4750\n",
            "Epoch 49/60\n",
            "12800/12800 [==============================] - 22s 2ms/step - loss: 4.8274 - mean_squared_error: 4.8274 - val_loss: 4.3872 - val_mean_squared_error: 4.3872\n",
            "Epoch 50/60\n",
            "12800/12800 [==============================] - 23s 2ms/step - loss: 4.8049 - mean_squared_error: 4.8049 - val_loss: 5.2461 - val_mean_squared_error: 5.2461\n",
            "Epoch 51/60\n",
            "12800/12800 [==============================] - 23s 2ms/step - loss: 4.7851 - mean_squared_error: 4.7851 - val_loss: 4.7286 - val_mean_squared_error: 4.7286\n",
            "Epoch 52/60\n",
            "12800/12800 [==============================] - 22s 2ms/step - loss: 4.8487 - mean_squared_error: 4.8487 - val_loss: 4.1735 - val_mean_squared_error: 4.1735\n",
            "Epoch 53/60\n",
            "12800/12800 [==============================] - 23s 2ms/step - loss: 4.8197 - mean_squared_error: 4.8197 - val_loss: 4.4855 - val_mean_squared_error: 4.4855\n",
            "Epoch 54/60\n",
            "12800/12800 [==============================] - 22s 2ms/step - loss: 4.7199 - mean_squared_error: 4.7199 - val_loss: 4.2047 - val_mean_squared_error: 4.2047\n",
            "Epoch 55/60\n",
            "12800/12800 [==============================] - 23s 2ms/step - loss: 4.6961 - mean_squared_error: 4.6961 - val_loss: 4.6139 - val_mean_squared_error: 4.6139\n",
            "Epoch 56/60\n",
            "12800/12800 [==============================] - 23s 2ms/step - loss: 4.7438 - mean_squared_error: 4.7438 - val_loss: 5.7846 - val_mean_squared_error: 5.7846\n",
            "Epoch 57/60\n",
            "12800/12800 [==============================] - 23s 2ms/step - loss: 4.6598 - mean_squared_error: 4.6598 - val_loss: 4.4397 - val_mean_squared_error: 4.4397\n",
            "Epoch 58/60\n",
            "12800/12800 [==============================] - 23s 2ms/step - loss: 4.6900 - mean_squared_error: 4.6900 - val_loss: 4.0047 - val_mean_squared_error: 4.0047\n",
            "Epoch 59/60\n",
            "12800/12800 [==============================] - 22s 2ms/step - loss: 4.7139 - mean_squared_error: 4.7139 - val_loss: 4.0447 - val_mean_squared_error: 4.0447\n",
            "Epoch 60/60\n",
            "12800/12800 [==============================] - 22s 2ms/step - loss: 4.6586 - mean_squared_error: 4.6586 - val_loss: 4.7128 - val_mean_squared_error: 4.7128\n"
          ],
          "name": "stdout"
        }
      ]
    },
    {
      "cell_type": "code",
      "metadata": {
        "id": "gQaXBWWLOfhP"
      },
      "source": [
        "def plot_loss(history):\r\n",
        "  plt.plot(history.history['loss'], label='loss')\r\n",
        "  plt.plot(history.history['val_loss'], label='val_loss')\r\n",
        "  #plt.ylim([0, 10])\r\n",
        "  plt.xlabel('Epoch')\r\n",
        "  plt.ylabel('Error T1')\r\n",
        "  plt.legend()\r\n",
        "  plt.grid(True)"
      ],
      "execution_count": 37,
      "outputs": []
    },
    {
      "cell_type": "code",
      "metadata": {
        "colab": {
          "base_uri": "https://localhost:8080/",
          "height": 279
        },
        "id": "PLpBwv9xPBdM",
        "outputId": "01f4c0d9-9939-4b90-aa7d-7eca99f99f79"
      },
      "source": [
        "plot_loss(history)"
      ],
      "execution_count": 38,
      "outputs": [
        {
          "output_type": "display_data",
          "data": {
            "image/png": "[encoded data removed]",
            "text/plain": [
              "<Figure size 432x288 with 1 Axes>"
            ]
          },
          "metadata": {
            "tags": [],
            "needs_background": "light"
          }
        }
      ]
    },
    {
      "cell_type": "code",
      "metadata": {
        "colab": {
          "base_uri": "https://localhost:8080/"
        },
        "id": "Q4cptHWNPDY7",
        "outputId": "76c290f1-20d2-40c0-847e-48153c56cafa"
      },
      "source": [
        "test_result = model.evaluate(X_test, y_test)\r\n",
        "print(test_result)"
      ],
      "execution_count": 39,
      "outputs": [
        {
          "output_type": "stream",
          "text": [
            "25000/25000 [==============================] - 37s 1ms/step - loss: 4.7207 - mean_squared_error: 4.7207\n",
            "[4.720708847045898, 4.720708847045898]\n"
          ],
          "name": "stdout"
        }
      ]
    },
    {
      "cell_type": "code",
      "metadata": {
        "colab": {
          "base_uri": "https://localhost:8080/"
        },
        "id": "jUA6GXLCaAVa",
        "outputId": "7dee2126-06ba-419b-fd68-73b0d2aec0e8"
      },
      "source": [
        "model.save('T1Model')"
      ],
      "execution_count": 40,
      "outputs": [
        {
          "output_type": "stream",
          "text": [
            "INFO:tensorflow:Assets written to: T1Model/assets\n"
          ],
          "name": "stdout"
        }
      ]
    },
    {
      "cell_type": "code",
      "metadata": {
        "colab": {
          "base_uri": "https://localhost:8080/"
        },
        "id": "pRCQoDe-Z70k",
        "outputId": "5c666b86-3d6c-4dcb-e684-32ff820312e3"
      },
      "source": [
        "del X_train, X_test, y_train, y_test, model\r\n",
        "gc.collect()"
      ],
      "execution_count": 41,
      "outputs": [
        {
          "output_type": "execute_result",
          "data": {
            "text/plain": [
              "14292"
            ]
          },
          "metadata": {
            "tags": []
          },
          "execution_count": 41
        }
      ]
    },
    {
      "cell_type": "markdown",
      "metadata": {
        "id": "I_BginR7R99b"
      },
      "source": [
        "# Model for T2 Calculation"
      ]
    },
    {
      "cell_type": "code",
      "metadata": {
        "id": "1jbdWJHkSAfj"
      },
      "source": [
        "X_train, X_test, y_train, y_test = train_test_split(X, y_2, test_size = 0.2, random_state = 42)"
      ],
      "execution_count": 19,
      "outputs": []
    },
    {
      "cell_type": "code",
      "metadata": {
        "id": "VkRNg6OzSIAw"
      },
      "source": [
        "model = Sequential()\r\n",
        "model.add(Dense(16,activation='relu', input_shape = (10,)))\r\n",
        "model.add(Dense(2, activation='relu'))\r\n",
        "model.add(Dense(1))\r\n",
        "model.compile(optimizer= tf.keras.optimizers.Adam(learning_rate = 0.01), loss = 'mean_squared_error', metrics = 'mean_squared_error')"
      ],
      "execution_count": 24,
      "outputs": []
    },
    {
      "cell_type": "code",
      "metadata": {
        "colab": {
          "base_uri": "https://localhost:8080/"
        },
        "id": "ZrZhmndFSI7r",
        "outputId": "af60c9ce-6731-4163-c9e3-098d1036a4e4"
      },
      "source": [
        "model.summary()"
      ],
      "execution_count": 25,
      "outputs": [
        {
          "output_type": "stream",
          "text": [
            "Model: \"sequential_2\"\n",
            "_________________________________________________________________\n",
            "Layer (type)                 Output Shape              Param #   \n",
            "=================================================================\n",
            "dense_6 (Dense)              (None, 16)                176       \n",
            "_________________________________________________________________\n",
            "dense_7 (Dense)              (None, 2)                 34        \n",
            "_________________________________________________________________\n",
            "dense_8 (Dense)              (None, 1)                 3         \n",
            "=================================================================\n",
            "Total params: 213\n",
            "Trainable params: 213\n",
            "Non-trainable params: 0\n",
            "_________________________________________________________________\n"
          ],
          "name": "stdout"
        }
      ]
    },
    {
      "cell_type": "code",
      "metadata": {
        "colab": {
          "base_uri": "https://localhost:8080/"
        },
        "id": "rV_CksczSNR7",
        "outputId": "1145307f-715d-40cc-d0af-01b42784e6bc"
      },
      "source": [
        "history = model.fit(X_train, y_train,validation_split=0.2, epochs=60, batch_size = 200)"
      ],
      "execution_count": 26,
      "outputs": [
        {
          "output_type": "stream",
          "text": [
            "Epoch 1/60\n",
            "12800/12800 [==============================] - 23s 2ms/step - loss: 47.1678 - mean_squared_error: 47.1678 - val_loss: 4.7465 - val_mean_squared_error: 4.7465\n",
            "Epoch 2/60\n",
            "12800/12800 [==============================] - 23s 2ms/step - loss: 3.6767 - mean_squared_error: 3.6767 - val_loss: 2.7561 - val_mean_squared_error: 2.7561\n",
            "Epoch 3/60\n",
            "12800/12800 [==============================] - 22s 2ms/step - loss: 2.5043 - mean_squared_error: 2.5043 - val_loss: 2.0682 - val_mean_squared_error: 2.0682\n",
            "Epoch 4/60\n",
            "12800/12800 [==============================] - 22s 2ms/step - loss: 1.9715 - mean_squared_error: 1.9715 - val_loss: 1.3782 - val_mean_squared_error: 1.3782\n",
            "Epoch 5/60\n",
            "12800/12800 [==============================] - 22s 2ms/step - loss: 1.4031 - mean_squared_error: 1.4031 - val_loss: 1.0233 - val_mean_squared_error: 1.0233\n",
            "Epoch 6/60\n",
            "12800/12800 [==============================] - 22s 2ms/step - loss: 1.1934 - mean_squared_error: 1.1934 - val_loss: 1.0213 - val_mean_squared_error: 1.0213\n",
            "Epoch 7/60\n",
            "12800/12800 [==============================] - 22s 2ms/step - loss: 1.1376 - mean_squared_error: 1.1376 - val_loss: 1.7629 - val_mean_squared_error: 1.7629\n",
            "Epoch 8/60\n",
            "12800/12800 [==============================] - 22s 2ms/step - loss: 1.1059 - mean_squared_error: 1.1059 - val_loss: 1.3804 - val_mean_squared_error: 1.3804\n",
            "Epoch 9/60\n",
            "12800/12800 [==============================] - 22s 2ms/step - loss: 1.0628 - mean_squared_error: 1.0628 - val_loss: 0.8421 - val_mean_squared_error: 0.8421\n",
            "Epoch 10/60\n",
            "12800/12800 [==============================] - 22s 2ms/step - loss: 1.0420 - mean_squared_error: 1.0420 - val_loss: 1.1047 - val_mean_squared_error: 1.1047\n",
            "Epoch 11/60\n",
            "12800/12800 [==============================] - 22s 2ms/step - loss: 1.0198 - mean_squared_error: 1.0198 - val_loss: 1.1317 - val_mean_squared_error: 1.1317\n",
            "Epoch 12/60\n",
            "12800/12800 [==============================] - 22s 2ms/step - loss: 1.0146 - mean_squared_error: 1.0146 - val_loss: 1.0314 - val_mean_squared_error: 1.0314\n",
            "Epoch 13/60\n",
            "12800/12800 [==============================] - 22s 2ms/step - loss: 0.9934 - mean_squared_error: 0.9934 - val_loss: 0.8345 - val_mean_squared_error: 0.8345\n",
            "Epoch 14/60\n",
            "12800/12800 [==============================] - 22s 2ms/step - loss: 0.9868 - mean_squared_error: 0.9868 - val_loss: 0.9776 - val_mean_squared_error: 0.9776\n",
            "Epoch 15/60\n",
            "12800/12800 [==============================] - 23s 2ms/step - loss: 0.9697 - mean_squared_error: 0.9697 - val_loss: 0.8494 - val_mean_squared_error: 0.8494\n",
            "Epoch 16/60\n",
            "12800/12800 [==============================] - 22s 2ms/step - loss: 0.9715 - mean_squared_error: 0.9715 - val_loss: 1.0150 - val_mean_squared_error: 1.0150\n",
            "Epoch 17/60\n",
            "12800/12800 [==============================] - 22s 2ms/step - loss: 0.9629 - mean_squared_error: 0.9629 - val_loss: 0.8226 - val_mean_squared_error: 0.8226\n",
            "Epoch 18/60\n",
            "12800/12800 [==============================] - 22s 2ms/step - loss: 0.9581 - mean_squared_error: 0.9581 - val_loss: 0.8905 - val_mean_squared_error: 0.8905\n",
            "Epoch 19/60\n",
            "12800/12800 [==============================] - 22s 2ms/step - loss: 0.9530 - mean_squared_error: 0.9530 - val_loss: 0.7866 - val_mean_squared_error: 0.7866\n",
            "Epoch 20/60\n",
            "12800/12800 [==============================] - 22s 2ms/step - loss: 0.9480 - mean_squared_error: 0.9480 - val_loss: 1.0715 - val_mean_squared_error: 1.0715\n",
            "Epoch 21/60\n",
            "12800/12800 [==============================] - 22s 2ms/step - loss: 0.9480 - mean_squared_error: 0.9480 - val_loss: 1.0659 - val_mean_squared_error: 1.0659\n",
            "Epoch 22/60\n",
            "12800/12800 [==============================] - 22s 2ms/step - loss: 0.9437 - mean_squared_error: 0.9437 - val_loss: 0.8713 - val_mean_squared_error: 0.8713\n",
            "Epoch 23/60\n",
            "12800/12800 [==============================] - 22s 2ms/step - loss: 0.9330 - mean_squared_error: 0.9330 - val_loss: 0.7811 - val_mean_squared_error: 0.7811\n",
            "Epoch 24/60\n",
            "12800/12800 [==============================] - 22s 2ms/step - loss: 0.9232 - mean_squared_error: 0.9232 - val_loss: 0.8057 - val_mean_squared_error: 0.8057\n",
            "Epoch 25/60\n",
            "12800/12800 [==============================] - 22s 2ms/step - loss: 0.9270 - mean_squared_error: 0.9270 - val_loss: 1.0888 - val_mean_squared_error: 1.0888\n",
            "Epoch 26/60\n",
            "12800/12800 [==============================] - 23s 2ms/step - loss: 0.9212 - mean_squared_error: 0.9212 - val_loss: 0.9195 - val_mean_squared_error: 0.9195\n",
            "Epoch 27/60\n",
            "12800/12800 [==============================] - 22s 2ms/step - loss: 0.9180 - mean_squared_error: 0.9180 - val_loss: 0.8258 - val_mean_squared_error: 0.8258\n",
            "Epoch 28/60\n",
            "12800/12800 [==============================] - 22s 2ms/step - loss: 0.9156 - mean_squared_error: 0.9156 - val_loss: 0.9616 - val_mean_squared_error: 0.9616\n",
            "Epoch 29/60\n",
            "12800/12800 [==============================] - 23s 2ms/step - loss: 0.9138 - mean_squared_error: 0.9138 - val_loss: 0.8890 - val_mean_squared_error: 0.8890\n",
            "Epoch 30/60\n",
            "12800/12800 [==============================] - 22s 2ms/step - loss: 0.9024 - mean_squared_error: 0.9024 - val_loss: 0.8185 - val_mean_squared_error: 0.8185\n",
            "Epoch 31/60\n",
            "12800/12800 [==============================] - 22s 2ms/step - loss: 0.9069 - mean_squared_error: 0.9069 - val_loss: 0.7716 - val_mean_squared_error: 0.7716\n",
            "Epoch 32/60\n",
            "12800/12800 [==============================] - 22s 2ms/step - loss: 0.9102 - mean_squared_error: 0.9102 - val_loss: 0.8591 - val_mean_squared_error: 0.8591\n",
            "Epoch 33/60\n",
            "12800/12800 [==============================] - 23s 2ms/step - loss: 0.8984 - mean_squared_error: 0.8984 - val_loss: 0.8201 - val_mean_squared_error: 0.8201\n",
            "Epoch 34/60\n",
            "12800/12800 [==============================] - 23s 2ms/step - loss: 0.8890 - mean_squared_error: 0.8890 - val_loss: 0.8210 - val_mean_squared_error: 0.8210\n",
            "Epoch 35/60\n",
            "12800/12800 [==============================] - 22s 2ms/step - loss: 0.8932 - mean_squared_error: 0.8932 - val_loss: 0.7660 - val_mean_squared_error: 0.7660\n",
            "Epoch 36/60\n",
            "12800/12800 [==============================] - 22s 2ms/step - loss: 0.8844 - mean_squared_error: 0.8844 - val_loss: 0.7830 - val_mean_squared_error: 0.7830\n",
            "Epoch 37/60\n",
            "12800/12800 [==============================] - 22s 2ms/step - loss: 0.8757 - mean_squared_error: 0.8757 - val_loss: 0.9899 - val_mean_squared_error: 0.9899\n",
            "Epoch 38/60\n",
            "12800/12800 [==============================] - 22s 2ms/step - loss: 0.8836 - mean_squared_error: 0.8836 - val_loss: 0.9750 - val_mean_squared_error: 0.9750\n",
            "Epoch 39/60\n",
            "12800/12800 [==============================] - 22s 2ms/step - loss: 0.8700 - mean_squared_error: 0.8700 - val_loss: 0.8289 - val_mean_squared_error: 0.8289\n",
            "Epoch 40/60\n",
            "12800/12800 [==============================] - 23s 2ms/step - loss: 0.8697 - mean_squared_error: 0.8697 - val_loss: 0.7928 - val_mean_squared_error: 0.7928\n",
            "Epoch 41/60\n",
            "12800/12800 [==============================] - 22s 2ms/step - loss: 0.8717 - mean_squared_error: 0.8717 - val_loss: 0.8188 - val_mean_squared_error: 0.8188\n",
            "Epoch 42/60\n",
            "12800/12800 [==============================] - 22s 2ms/step - loss: 0.8642 - mean_squared_error: 0.8642 - val_loss: 0.7645 - val_mean_squared_error: 0.7645\n",
            "Epoch 43/60\n",
            "12800/12800 [==============================] - 23s 2ms/step - loss: 0.8649 - mean_squared_error: 0.8649 - val_loss: 0.8139 - val_mean_squared_error: 0.8139\n",
            "Epoch 44/60\n",
            "12800/12800 [==============================] - 22s 2ms/step - loss: 0.8615 - mean_squared_error: 0.8615 - val_loss: 0.8316 - val_mean_squared_error: 0.8316\n",
            "Epoch 45/60\n",
            "12800/12800 [==============================] - 23s 2ms/step - loss: 0.8631 - mean_squared_error: 0.8631 - val_loss: 0.8806 - val_mean_squared_error: 0.8806\n",
            "Epoch 46/60\n",
            "12800/12800 [==============================] - 22s 2ms/step - loss: 0.8516 - mean_squared_error: 0.8516 - val_loss: 1.6968 - val_mean_squared_error: 1.6968\n",
            "Epoch 47/60\n",
            "12800/12800 [==============================] - 22s 2ms/step - loss: 0.8568 - mean_squared_error: 0.8568 - val_loss: 0.7491 - val_mean_squared_error: 0.7491\n",
            "Epoch 48/60\n",
            "12800/12800 [==============================] - 23s 2ms/step - loss: 0.8556 - mean_squared_error: 0.8556 - val_loss: 0.7374 - val_mean_squared_error: 0.7374\n",
            "Epoch 49/60\n",
            "12800/12800 [==============================] - 22s 2ms/step - loss: 0.8545 - mean_squared_error: 0.8545 - val_loss: 0.8607 - val_mean_squared_error: 0.8607\n",
            "Epoch 50/60\n",
            "12800/12800 [==============================] - 23s 2ms/step - loss: 0.8519 - mean_squared_error: 0.8519 - val_loss: 0.8715 - val_mean_squared_error: 0.8715\n",
            "Epoch 51/60\n",
            "12800/12800 [==============================] - 23s 2ms/step - loss: 0.8494 - mean_squared_error: 0.8494 - val_loss: 0.9712 - val_mean_squared_error: 0.9712\n",
            "Epoch 52/60\n",
            "12800/12800 [==============================] - 22s 2ms/step - loss: 0.8452 - mean_squared_error: 0.8452 - val_loss: 0.8216 - val_mean_squared_error: 0.8216\n",
            "Epoch 53/60\n",
            "12800/12800 [==============================] - 23s 2ms/step - loss: 0.8517 - mean_squared_error: 0.8517 - val_loss: 0.8568 - val_mean_squared_error: 0.8568\n",
            "Epoch 54/60\n",
            "12800/12800 [==============================] - 23s 2ms/step - loss: 0.8386 - mean_squared_error: 0.8386 - val_loss: 0.8283 - val_mean_squared_error: 0.8283\n",
            "Epoch 55/60\n",
            "12800/12800 [==============================] - 22s 2ms/step - loss: 0.8393 - mean_squared_error: 0.8393 - val_loss: 0.7451 - val_mean_squared_error: 0.7451\n",
            "Epoch 56/60\n",
            "12800/12800 [==============================] - 22s 2ms/step - loss: 0.8392 - mean_squared_error: 0.8392 - val_loss: 0.7351 - val_mean_squared_error: 0.7351\n",
            "Epoch 57/60\n",
            "12800/12800 [==============================] - 23s 2ms/step - loss: 0.8338 - mean_squared_error: 0.8338 - val_loss: 0.7581 - val_mean_squared_error: 0.7581\n",
            "Epoch 58/60\n",
            "12800/12800 [==============================] - 23s 2ms/step - loss: 0.8328 - mean_squared_error: 0.8328 - val_loss: 0.8792 - val_mean_squared_error: 0.8792\n",
            "Epoch 59/60\n",
            "12800/12800 [==============================] - 23s 2ms/step - loss: 0.8364 - mean_squared_error: 0.8364 - val_loss: 0.7816 - val_mean_squared_error: 0.7816\n",
            "Epoch 60/60\n",
            "12800/12800 [==============================] - 23s 2ms/step - loss: 0.8326 - mean_squared_error: 0.8326 - val_loss: 0.9709 - val_mean_squared_error: 0.9709\n"
          ],
          "name": "stdout"
        }
      ]
    },
    {
      "cell_type": "code",
      "metadata": {
        "colab": {
          "base_uri": "https://localhost:8080/",
          "height": 279
        },
        "id": "S_EVw8FbSYE4",
        "outputId": "1443ec81-514e-49c3-a7a7-2cb7ba0f235a"
      },
      "source": [
        "plot_loss(history)"
      ],
      "execution_count": 27,
      "outputs": [
        {
          "output_type": "display_data",
          "data": {
            "image/png": "[encoded data removed]",
            "text/plain": [
              "<Figure size 432x288 with 1 Axes>"
            ]
          },
          "metadata": {
            "tags": [],
            "needs_background": "light"
          }
        }
      ]
    },
    {
      "cell_type": "code",
      "metadata": {
        "colab": {
          "base_uri": "https://localhost:8080/"
        },
        "id": "8IiZlCRnSYE6",
        "outputId": "18c04a2d-e992-4a2b-f835-d9dec6728bdc"
      },
      "source": [
        "test_result = model.evaluate(X_test, y_test)\r\n",
        "print(test_result)"
      ],
      "execution_count": 28,
      "outputs": [
        {
          "output_type": "stream",
          "text": [
            "25000/25000 [==============================] - 37s 1ms/step - loss: 0.9685 - mean_squared_error: 0.9685\n",
            "[0.9684787392616272, 0.9684787392616272]\n"
          ],
          "name": "stdout"
        }
      ]
    },
    {
      "cell_type": "code",
      "metadata": {
        "colab": {
          "base_uri": "https://localhost:8080/"
        },
        "id": "Z_rkN2nzScJl",
        "outputId": "d04a54a3-d3a5-4c4e-a80b-281c9b588fa4"
      },
      "source": [
        "model.save('T2Model')"
      ],
      "execution_count": 29,
      "outputs": [
        {
          "output_type": "stream",
          "text": [
            "INFO:tensorflow:Assets written to: T2Model/assets\n"
          ],
          "name": "stdout"
        }
      ]
    },
    {
      "cell_type": "code",
      "metadata": {
        "id": "gCeQ4zwAaWM8"
      },
      "source": [
        ""
      ],
      "execution_count": null,
      "outputs": []
    }
  ]
}